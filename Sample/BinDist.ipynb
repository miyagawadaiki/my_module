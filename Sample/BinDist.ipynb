{
 "cells": [
  {
   "cell_type": "markdown",
   "metadata": {},
   "source": [
    "# simu_file_handler の使い方サンプル\n",
    "例として，二項分布をモンテカルロ法で近似するプログラムを用いる．  \n",
    "\n",
    "二項分布は確率 p で成功する試行を n 回行ったとき，成功回数 X が従う確率分布のことである．  \n",
    "今回は確率 p で成功する試行を n 回やる一連のプロセスを T 回繰り返し，合計 k 回成功した割合から二項分布を近似する．\n",
    "\n",
    "したがって，シミュレーションに使うパラメータは以下である．\n",
    "* n : 二項分布の試行の回数\n",
    "* p : 試行の成功確率\n",
    "* T : 二項分布自体を繰り返す回数"
   ]
  },
  {
   "cell_type": "markdown",
   "metadata": {},
   "source": [
    "## 必要なライブラリをインポートする"
   ]
  },
  {
   "cell_type": "code",
   "execution_count": 81,
   "metadata": {},
   "outputs": [
    {
     "data": {
      "text/plain": [
       "<module 'simu_file_handler' from '../simu_file_handler.py'>"
      ]
     },
     "execution_count": 81,
     "metadata": {},
     "output_type": "execute_result"
    }
   ],
   "source": [
    "import numpy as np\n",
    "import matplotlib.pyplot as plt\n",
    "\n",
    "import sys\n",
    "sys.path.append(\"../\")\n",
    "import simu_file_handler as sh   # simu_file_handler を読み込む\n",
    "\n",
    "import importlib\n",
    "importlib.reload(sh)"
   ]
  },
  {
   "cell_type": "markdown",
   "metadata": {},
   "source": [
    "## パラメータクラスを定義（SParameterを継承する）\n",
    "シミュレーションの変数をここで定義する．\n",
    "\n",
    "simu_file_handler モジュールにあるSParameterクラスを継承する必要があり，`__init__`メソッドもオーバーライドする．  \n",
    "その際，必要な変数を`__init__`メソッドの引数に含め，内部で`self.pdict`という辞書に変数名とともに初期値を登録する．\n",
    "\n",
    "（初期値は型だけ合わせておいて欲しい．int型でいいならint型の値，float型で使いたいならfloat型の値をなんでもいいから入れるなどする）"
   ]
  },
  {
   "cell_type": "code",
   "execution_count": 31,
   "metadata": {},
   "outputs": [],
   "source": [
    "class Parameter(sh.SParameter):\n",
    "    \n",
    "    # パラメータの設定\n",
    "    def __init__(self, n=10, p=0.5, T=10, sd=None):\n",
    "        # 親クラスの初期化\n",
    "        super().__init__(sd)\n",
    "        \n",
    "        self.pdict['n'] = n\n",
    "        self.pdict['p'] = p\n",
    "        self.pdict['T'] = T"
   ]
  },
  {
   "cell_type": "markdown",
   "metadata": {},
   "source": [
    "## SimuFileHandler クラスのインスタンスを作る\n",
    "SimuFileHandlerクラスには，\n",
    "* データ格納用のフォルダのパス\n",
    "* さっき作ったパラメータクラス\n",
    "\n",
    "を渡す必要がある．\n",
    "\n",
    "※ 先にデータ格納用のフォルダを作っておくこと！ 今回はこのJupyterファイルがあるフォルダの直下にdataフォルダを作成するとする．"
   ]
  },
  {
   "cell_type": "code",
   "execution_count": 82,
   "metadata": {},
   "outputs": [],
   "source": [
    "folder = './data'\n",
    "sfh = sh.SimuFileHandler(folder, Parameter())"
   ]
  },
  {
   "cell_type": "markdown",
   "metadata": {},
   "source": [
    "## 二項分布をモンテカルロ法で近似する関数\n",
    "ここは自分でモジュールを使う場合，好きに自分のシミュレーションコードを書くことになる．\n",
    "\n",
    "今回は二項分布を例とするため，確率 p で成功する試行を n 回やり，成功した回数を記録することを T 回繰り返して成功割合の分布を得る．"
   ]
  },
  {
   "cell_type": "code",
   "execution_count": 10,
   "metadata": {},
   "outputs": [],
   "source": [
    "def simulate_bd(param):\n",
    "    pd = param.pdict\n",
    "\n",
    "    result = np.zeros(pd['n']+1)\n",
    "\n",
    "    for i in range(pd['T']):\n",
    "\n",
    "        cnt = 0\n",
    "        for j in range(pd['n']):\n",
    "            cnt += 1 if np.random.rand() < pd['p'] else 0\n",
    "        result[cnt] += 1\n",
    "\n",
    "    result = result / pd['n']\n",
    "    return result"
   ]
  },
  {
   "cell_type": "markdown",
   "metadata": {},
   "source": [
    "## データを追加\n",
    "上のシミュレーション用関数を用いてデータを作成し，データ格納用フォルダに追加しよう．\n",
    "\n",
    "シミュレーションコードによりパラメータに紐づいたデータ（array-like）ができたら，`SimuFileHandler.add_one_result`メソッドを用いてファイルに追加できる．\n",
    "\n",
    "ここでデータ格納用フォルダを見てみたならば，ファイルが1つ生成されており，中に1列のデータが収められていることが確認できるはず．"
   ]
  },
  {
   "cell_type": "code",
   "execution_count": 5,
   "metadata": {},
   "outputs": [
    {
     "name": "stdout",
     "output_type": "stream",
     "text": [
      "n10_p50_T10\n",
      "[0.  0.  0.1 0.1 0.3 0.2 0.2 0.  0.  0.1 0. ]\n"
     ]
    }
   ],
   "source": [
    "param = Parameter(n=10, p=0.5, T=10)\n",
    "print(param)\n",
    "\n",
    "result = simulate_bd(param)\n",
    "print(result)\n",
    "\n",
    "sfh.add_one_result(param, result)"
   ]
  },
  {
   "cell_type": "markdown",
   "metadata": {},
   "source": [
    "## シミュレーションを複数回やり，一度に追加\n",
    "今度は複数のシミュレーション結果を一度に格納する．\n",
    "\n",
    "結果は二次元配列（あるいはリスト）の形にして，それをパラメータクラスのインスタンスと一緒に`SimuFileHandler.add_results`メソッドにわたす．  \n",
    "そうすると，またファイルの中身を見ると今度は10列に増えていることがわかる．"
   ]
  },
  {
   "cell_type": "code",
   "execution_count": 6,
   "metadata": {},
   "outputs": [
    {
     "name": "stdout",
     "output_type": "stream",
     "text": [
      "[array([0. , 0. , 0. , 0.4, 0.2, 0.2, 0.1, 0. , 0.1, 0. , 0. ]), array([0. , 0. , 0. , 0.1, 0.3, 0.5, 0. , 0. , 0. , 0.1, 0. ]), array([0. , 0. , 0. , 0. , 0.3, 0.2, 0.3, 0.2, 0. , 0. , 0. ]), array([0. , 0. , 0. , 0.1, 0.2, 0.4, 0.2, 0. , 0. , 0.1, 0. ]), array([0. , 0. , 0. , 0.1, 0.1, 0.3, 0.3, 0.1, 0. , 0.1, 0. ]), array([0. , 0. , 0. , 0.2, 0. , 0.3, 0.2, 0.3, 0. , 0. , 0. ]), array([0. , 0. , 0.2, 0.1, 0.5, 0.1, 0. , 0.1, 0. , 0. , 0. ]), array([0. , 0. , 0.2, 0. , 0.2, 0.1, 0.2, 0.2, 0.1, 0. , 0. ]), array([0. , 0. , 0. , 0.2, 0.3, 0.1, 0.3, 0.1, 0. , 0. , 0. ])]\n"
     ]
    }
   ],
   "source": [
    "results = []\n",
    "for i in range(9):\n",
    "    r = simulate_bd(param)\n",
    "    results.append(r)\n",
    "print(results)\n",
    "\n",
    "sfh.add_results(param, results)"
   ]
  },
  {
   "cell_type": "markdown",
   "metadata": {},
   "source": [
    "## 試行回数の確認\n",
    "パラメータセットに対して，何回シミュレーションを行ったかを`SimuFileHandler.get_num_data`メソッドで調べることができる．\n",
    "\n",
    "返り値は，(試行回数，データの種類数）がタプルで得られるため，(10, 11)と表示されて，試行回数が10，0〜10までの分布を調べたのでデータの種類数が11になっていることが確認できる．"
   ]
  },
  {
   "cell_type": "code",
   "execution_count": 7,
   "metadata": {},
   "outputs": [
    {
     "data": {
      "text/plain": [
       "(10, 11)"
      ]
     },
     "execution_count": 7,
     "metadata": {},
     "output_type": "execute_result"
    }
   ],
   "source": [
    "sfh.get_num_data(param)"
   ]
  },
  {
   "cell_type": "markdown",
   "metadata": {},
   "source": [
    "## データを読み込んでプロット\n",
    "収めていたデータを`SimuFileHandler.read_and_get_ave`メソッドで読み込んでみる．\n",
    "\n",
    "その際，特に何も指定しなければ，すでに行われたシミュレーション回数で平均化された値が返る．  \n",
    "したがって，今は10試行平均の値を受け取ることができる．\n",
    "\n",
    "引数で`mx=5`などと指定すれば平均化する回数を指定することができる．"
   ]
  },
  {
   "cell_type": "code",
   "execution_count": 8,
   "metadata": {},
   "outputs": [
    {
     "name": "stdout",
     "output_type": "stream",
     "text": [
      "attempts: 10\n"
     ]
    },
    {
     "data": {
      "text/plain": [
       "[<matplotlib.lines.Line2D at 0x1066f4860>]"
      ]
     },
     "execution_count": 8,
     "metadata": {},
     "output_type": "execute_result"
    },
    {
     "data": {
      "image/png": "[encoded data removed]",
      "text/plain": [
       "<Figure size 432x288 with 1 Axes>"
      ]
     },
     "metadata": {},
     "output_type": "display_data"
    }
   ],
   "source": [
    "x = np.arange(0, param.pdict['n']+0.1, 1)\n",
    "y = sfh.read_and_get_ave(param)\n",
    "\n",
    "plt.plot(x,y)"
   ]
  },
  {
   "cell_type": "markdown",
   "metadata": {},
   "source": [
    "## 他のパラメータでもやってみる"
   ]
  },
  {
   "cell_type": "markdown",
   "metadata": {},
   "source": [
    "### n, p, T=10, 0.5, 1000\n",
    "T を1000に増やすと1回しかシミュレーションをしなくても理想的な分布に近づく．"
   ]
  },
  {
   "cell_type": "code",
   "execution_count": 9,
   "metadata": {},
   "outputs": [
    {
     "name": "stdout",
     "output_type": "stream",
     "text": [
      "n10_p50_T1000\n",
      "[ 0.2  0.7  3.7 12.2 21.1 24.6 20.2 11.9  4.6  0.8  0. ]\n"
     ]
    }
   ],
   "source": [
    "param2 = Parameter(n=10, p=0.5, T=1000)\n",
    "print(param2)\n",
    "\n",
    "result = simulate_bd(param2)\n",
    "print(result)\n",
    "\n",
    "sfh.add_one_result(param2, result)"
   ]
  },
  {
   "cell_type": "code",
   "execution_count": 10,
   "metadata": {},
   "outputs": [
    {
     "name": "stdout",
     "output_type": "stream",
     "text": [
      "attempts: 1\n"
     ]
    },
    {
     "data": {
      "text/plain": [
       "[<matplotlib.lines.Line2D at 0x1067a14a8>]"
      ]
     },
     "execution_count": 10,
     "metadata": {},
     "output_type": "execute_result"
    },
    {
     "data": {
      "image/png": "[encoded data removed]",
      "text/plain": [
       "<Figure size 432x288 with 1 Axes>"
      ]
     },
     "metadata": {},
     "output_type": "display_data"
    }
   ],
   "source": [
    "x = np.arange(0, param.pdict['n']+0.1, 1)\n",
    "y = sfh.read_and_get_ave(param2)\n",
    "\n",
    "plt.plot(x,y)"
   ]
  },
  {
   "cell_type": "markdown",
   "metadata": {},
   "source": [
    "### n, p, T=10, 0.3, 1000\n",
    "成功確率 p を0.3に変えてみる．"
   ]
  },
  {
   "cell_type": "code",
   "execution_count": 46,
   "metadata": {},
   "outputs": [
    {
     "name": "stdout",
     "output_type": "stream",
     "text": [
      "n10_p30_T1000\n",
      "[ 3.3 11.1 24.  27.6 19.8 10.1  3.1  0.8  0.2  0.   0. ]\n"
     ]
    }
   ],
   "source": [
    "param3 = Parameter(n=10, p=0.3, T=1000)\n",
    "print(param3)\n",
    "\n",
    "result = simulate_bd(param3)\n",
    "print(result)\n",
    "\n",
    "sfh.add_one_result(param3, result)"
   ]
  },
  {
   "cell_type": "code",
   "execution_count": 48,
   "metadata": {},
   "outputs": [
    {
     "name": "stdout",
     "output_type": "stream",
     "text": [
      "attempts: 1\n"
     ]
    },
    {
     "data": {
      "text/plain": [
       "[<matplotlib.lines.Line2D at 0x10f014128>]"
      ]
     },
     "execution_count": 48,
     "metadata": {},
     "output_type": "execute_result"
    },
    {
     "data": {
      "image/png": "[encoded data removed]",
      "text/plain": [
       "<Figure size 432x288 with 1 Axes>"
      ]
     },
     "metadata": {},
     "output_type": "display_data"
    }
   ],
   "source": [
    "x = np.arange(0, param3.pdict['n']+0.1, 1)\n",
    "y = sfh.read_and_get_ave(param3)\n",
    "\n",
    "plt.plot(x,y)"
   ]
  },
  {
   "cell_type": "markdown",
   "metadata": {},
   "source": [
    "## 最後に，データ格納用フォルダのサマリを表示\n",
    "開発中だが，`SimuFileHandler.summary`メソッドを使うと，格納されたデータがどの変数について特に（いろいろ値を動かすことで）調査されているか，また2つ以上の変数を動かしている場合はあるかについて，視覚的に表示してシミュレーションの進捗を確認することができる．"
   ]
  },
  {
   "cell_type": "code",
   "execution_count": 83,
   "metadata": {
    "scrolled": false
   },
   "outputs": [
    {
     "name": "stdout",
     "output_type": "stream",
     "text": [
      "Folder: data\n",
      "Parameter: ['n', 'p', 'T']\n",
      "# of values that was set to each variable. \n"
     ]
    },
    {
     "data": {
      "image/png": "[encoded data removed]",
      "text/plain": [
       "<Figure size 432x288 with 1 Axes>"
      ]
     },
     "metadata": {},
     "output_type": "display_data"
    },
    {
     "data": {
      "image/png": "[encoded data removed]",
      "text/plain": [
       "<Figure size 360x360 with 1 Axes>"
      ]
     },
     "metadata": {},
     "output_type": "display_data"
    }
   ],
   "source": [
    "sfh.summary()"
   ]
  },
  {
   "cell_type": "code",
   "execution_count": null,
   "metadata": {},
   "outputs": [],
   "source": []
  }
 ],
 "metadata": {
  "kernelspec": {
   "display_name": "Python 3",
   "language": "python",
   "name": "python3"
  },
  "language_info": {
   "codemirror_mode": {
    "name": "ipython",
    "version": 3
   },
   "file_extension": ".py",
   "mimetype": "text/x-python",
   "name": "python",
   "nbconvert_exporter": "python",
   "pygments_lexer": "ipython3",
   "version": "3.6.0"
  }
 },
 "nbformat": 4,
 "nbformat_minor": 2
}
