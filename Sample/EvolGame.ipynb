{
 "cells": [
  {
   "cell_type": "markdown",
   "metadata": {},
   "source": [
    "# SimuFileHandlerの使い方サンプル（空間進化ゲーム）\n",
    "ここでは進化ゲームの応用の一種である空間進化ゲームを例にとってsimu_file_handlerの使い方を解説する．\n",
    "\n",
    "進化ゲームのシナリオは次のようになっている．\n",
    "* L×Lの格子上に隙間なくエージェントを配置し，ゲーム・戦略更新を行わせる\n",
    "* 2人ゲームによる利得は以下のように決まる：\n",
    "    - 両者協力 (C,C)：R\n",
    "    - 自分協力，相手非協力 (C,D)：S\n",
    "    - 自分非協力，相手協力 (D,C)：T\n",
    "    - 両者非協力 (D,D)：P\n",
    "* 1世代あたりの処理は以下：\n",
    "    1. 全エージェントからランダムに1人選ぶ（エージェントA）．\n",
    "    2. Aは近傍とゲームを行い，Aの近傍たちもまたそれぞれの近傍とゲームを行う．\n",
    "    3. Aは自分自身と近傍を含めた中で最も大きい利得を得たエージェントの戦略を確率 1-μ でまねる．残りの μ では戦略を反転させる．\n",
    "    4. 繰り返しのカウント数を1増加．繰り返し数が L×L であれば1世代終了，それより小さいなら 1. に戻る (合計L×L回やる)．"
   ]
  },
  {
   "cell_type": "markdown",
   "metadata": {},
   "source": [
    "## 必要なライブラリをインポート"
   ]
  },
  {
   "cell_type": "code",
   "execution_count": 26,
   "metadata": {},
   "outputs": [
    {
     "data": {
      "text/plain": [
       "<module 'simu_file_handler' from '../simu_file_handler.py'>"
      ]
     },
     "execution_count": 26,
     "metadata": {},
     "output_type": "execute_result"
    }
   ],
   "source": [
    "import networkx as nx\n",
    "import numpy as np\n",
    "import matplotlib.pyplot as plt\n",
    "\n",
    "import sys\n",
    "sys.path.append(\"../\")\n",
    "import simu_file_handler as sh   # simu_file_handler を読み込む\n",
    "\n",
    "import importlib\n",
    "importlib.reload(sh)"
   ]
  },
  {
   "cell_type": "markdown",
   "metadata": {},
   "source": [
    "## Parameterクラスを定義\n",
    "今回の変数は以下：\n",
    "* L : 格子の一辺の大きさ．したがってエージェント数はL×Lで計算される．\n",
    "* T : （非協力，協力）のときの利得\n",
    "* S : （協力，非協力）のときの利得\n",
    "* mu : 突然変異率．突然変異すると戦略が反転する．\n",
    "* Tmax : 世代の繰り返し数．\n",
    "\n",
    "今回は利得行列のパラメータ4つ（R,S,T,P）のうち，SとTのみ変数扱いとして，残りのRとPはそれぞれ1,0で固定とする．"
   ]
  },
  {
   "cell_type": "code",
   "execution_count": 27,
   "metadata": {},
   "outputs": [],
   "source": [
    "R, P = 1., 0.\n",
    "\n",
    "class Parameter(sh.SParameter):\n",
    "    \n",
    "    # 初期化（最低この関数だけはオーバーライドすること！）\n",
    "    def __init__(self, L=20, T=1.4, S=-0.4, mu=0.01, Tmax=1000, sd=None):\n",
    "        super().__init__(sd)\n",
    "        \n",
    "        self.pdict['L'] = L\n",
    "        self.pdict['T'] = T\n",
    "        self.pdict['S'] = S\n",
    "        self.pdict['mu'] = mu\n",
    "        self.pdict['Tmax'] = Tmax"
   ]
  },
  {
   "cell_type": "markdown",
   "metadata": {},
   "source": [
    "## SimuFileHandlerクラスのインスタンスを生成"
   ]
  },
  {
   "cell_type": "code",
   "execution_count": 28,
   "metadata": {},
   "outputs": [],
   "source": [
    "# 指定したディレクトリがない場合は作られる\n",
    "sfh = sh.SimuFileHandler('data_eg', Parameter())"
   ]
  },
  {
   "cell_type": "markdown",
   "metadata": {},
   "source": [
    "## 進化ゲームのクラスを定義"
   ]
  },
  {
   "cell_type": "code",
   "execution_count": 59,
   "metadata": {},
   "outputs": [],
   "source": [
    "class EvolGame:\n",
    "    \n",
    "    # 初期化メソッド\n",
    "    def __init__(self, param):\n",
    "        self.param = param\n",
    "        L = self.param.get('L')\n",
    "        \n",
    "        self.G = nx.grid_2d_graph(L, L, True)\n",
    "        self.nodes = {n:{'strategy':'C','payoff':0.} for n in self.G.nodes}\n",
    "        \n",
    "        self.reset()\n",
    "    \n",
    "    \n",
    "    # エージェントを初期状態にリセットする\n",
    "    def reset(self):\n",
    "        self.t = 0\n",
    "        \n",
    "        for d in self.nodes.values():\n",
    "            d['strategy'] = 'C' if np.random.rand() < 0.5 else 'D'\n",
    "            d['payoff'] = 0.\n",
    "    \n",
    "    \n",
    "    # 注目しているエージェントがその近傍とゲームし，近傍もまた自分自身の近傍とゲームをする\n",
    "    def play_game(self, f_i):\n",
    "        global R, P\n",
    "        T, S = self.param.get('T'), self.param.get('S')\n",
    "        \n",
    "        game = lambda mys, ops: {('C','C'):R, ('C','D'):S, ('D','C'):T, ('D','D'):P}[(mys,ops)]\n",
    "        \n",
    "        self.nodes[f_i]['payoff'] = 0.\n",
    "        mys = self.nodes[f_i]['strategy']\n",
    "        for a  in self.G.neighbors(f_i):\n",
    "            ops = self.nodes[a]['strategy']\n",
    "            self.nodes[f_i]['payoff'] += game(mys, ops)\n",
    "            \n",
    "            self.nodes[a]['payoff'] = 0.\n",
    "            for aa in self.G.neighbors(a):\n",
    "                ops2 = self.nodes[aa]['strategy']\n",
    "                self.nodes[a]['payoff'] += game(ops, ops2)\n",
    "    \n",
    "    \n",
    "    # 確率 μ：戦略を反転させる\n",
    "    # 確率 1-μ：自分＋近傍の中で最も高い利得を得たエージェントの戦略をまねる\n",
    "    def update_strategy(self, f_i):\n",
    "        #mu = self.pd['mu']\n",
    "        mu = self.param.get('mu')\n",
    "        \n",
    "        if np.random.rand() < mu:\n",
    "            self.nodes[f_i]['strategy'] = 'C' if np.random.rand() < 0.5 else 'D'\n",
    "        else:\n",
    "            nlist = list([n for n in self.G.neighbors(f_i)])\n",
    "            nlist.append(f_i)\n",
    "        \n",
    "            np.random.shuffle(nlist)#; print(nlist)\n",
    "            imax = 0; rmax = self.nodes[nlist[0]]['payoff']\n",
    "            for i in range(1,len(nlist)):\n",
    "                if self.nodes[nlist[i]]['payoff'] > rmax:\n",
    "                    imax = i\n",
    "                    rmax = self.nodes[nlist[i]]['payoff']\n",
    "\n",
    "            self.nodes[f_i]['strategy'] = self.nodes[nlist[imax]]['strategy']\n",
    "    \n",
    "    \n",
    "    # 協力者割合を求める\n",
    "    def calc_fc(self):\n",
    "        L = self.param.get('L')\n",
    "        N = int(L**2)\n",
    "        nc = 0\n",
    "        for d in self.nodes.values():\n",
    "            nc += 1 if d['strategy']=='C' else 0\n",
    "        \n",
    "        return nc/N\n",
    "    \n",
    "    \n",
    "    # 1世代分の処理を行う\n",
    "    def execute_one_generation(self):\n",
    "        L = self.param.get('L')\n",
    "        N = L*L\n",
    "        \n",
    "        for i in range(N):\n",
    "            r = np.random.randint(N)\n",
    "            f_i = (r//L,r%L)\n",
    "            self.play_game(f_i)\n",
    "            self.update_strategy(f_i)\n",
    "    \n",
    "    \n",
    "    # Tmax世代行い，最後の1割の世代での協力者割合の平均値を返す\n",
    "    def execute(self, show=False, fs='', bs='', end='\\n'):\n",
    "        L = self.param.get('L')\n",
    "        N = int(L**2)\n",
    "        Tmax = self.param.get('Tmax')\n",
    "        arr = np.zeros(Tmax)\n",
    "        \n",
    "        pg = ProgressGen(Tmax, 10, fs, bs, end, clear=True)\n",
    "        for i in range(Tmax):\n",
    "            self.execute_one_generation()\n",
    "            arr[i] = self.calc_fc()\n",
    "            \n",
    "            if show:\n",
    "                pg.show(i)\n",
    "        \n",
    "        #print()\n",
    "        return np.sum(arr[int(N*0.9):])/(N-int(N*0.9))   \n",
    "            \n",
    "            \n",
    "            \n",
    "# プログレスバーの表示用\n",
    "class ProgressGen(object):\n",
    "    def __init__(self, MAX_ITER, length, fs='', bs='', end='\\n', clear=False):\n",
    "        self.max_iter = MAX_ITER\n",
    "        self.length = length\n",
    "        self.fs = fs\n",
    "        self.bs = bs\n",
    "        self.end = '\\r'\n",
    "        self.lend = end\n",
    "        \n",
    "        if clear == True:\n",
    "            self.fs = '\\r' + ' '*(len(fs)+1+length+1+4+1+len(bs)) + '\\r' + self.fs\n",
    "            \n",
    "        if len(fs) > 0:\n",
    "            self.fs = fs + ' '\n",
    "        \n",
    "        print(fs + \"_\"*length, f\"{0:3d}%\", bs, end='\\r')\n",
    "        \n",
    "    def show(self, i):\n",
    "        i += 1\n",
    "        t = self.max_iter / self.length\n",
    "        if i%t == 0:\n",
    "            print(self.fs + \"*\"*int(i/t) + \"_\"*(self.length-int(i/t)), \\\n",
    "                  f\"{int(i/self.max_iter*100):3d}%\", self.bs, end=(self.end if i<self.max_iter else self.lend))"
   ]
  },
  {
   "cell_type": "markdown",
   "metadata": {},
   "source": [
    "## 進化ゲームを一度動作させる"
   ]
  },
  {
   "cell_type": "code",
   "execution_count": 58,
   "metadata": {},
   "outputs": [
    {
     "name": "stdout",
     "output_type": "stream",
     "text": [
      "L=20_T=1.400000E+00_S=-4.000000E-01_mu=1.000000E-02_Tmax=1000\n",
      "********** 100%  \n",
      "0.0796875\n"
     ]
    }
   ],
   "source": [
    "# パラメータを用意\n",
    "param = Parameter(); print(param)\n",
    "\n",
    "eg = EvolGame(param)         # 進化ゲームを初期化\n",
    "fc = eg.execute(show=True)  # 実行\n",
    "\n",
    "print(fc)"
   ]
  },
  {
   "cell_type": "markdown",
   "metadata": {},
   "source": [
    "## TとSを変動させて協力者割合を調査する"
   ]
  },
  {
   "cell_type": "code",
   "execution_count": 60,
   "metadata": {
    "scrolled": true
   },
   "outputs": [
    {
     "name": "stdout",
     "output_type": "stream",
     "text": [
      "L=20_T=0.000000E+00_S=-1.000000E+00_mu=1.000000E-02_Tmax=500 ********** 100% \n",
      "L=20_T=2.000000E-01_S=-1.000000E+00_mu=1.000000E-02_Tmax=500 ********** 100% \n",
      "L=20_T=4.000000E-01_S=-1.000000E+00_mu=1.000000E-02_Tmax=500 ********** 100% \n",
      "L=20_T=6.000000E-01_S=-1.000000E+00_mu=1.000000E-02_Tmax=500 ********** 100% \n",
      "L=20_T=8.000000E-01_S=-1.000000E+00_mu=1.000000E-02_Tmax=500 ********** 100%   30% \n",
      "L=20_T=1.000000E+00_S=-1.000000E+00_mu=1.000000E-02_Tmax=500 ********** 100% \n",
      "L=20_T=1.200000E+00_S=-1.000000E+00_mu=1.000000E-02_Tmax=500 ********** 100% \n",
      "L=20_T=1.400000E+00_S=-1.000000E+00_mu=1.000000E-02_Tmax=500 ********** 100% \n",
      "L=20_T=1.600000E+00_S=-1.000000E+00_mu=1.000000E-02_Tmax=500 ********** 100% \n",
      "L=20_T=1.800000E+00_S=-1.000000E+00_mu=1.000000E-02_Tmax=500 ********** 100% \n",
      "L=20_T=2.000000E+00_S=-1.000000E+00_mu=1.000000E-02_Tmax=500 ********** 100% \n",
      "L=20_T=0.000000E+00_S=-8.000000E-01_mu=1.000000E-02_Tmax=500 ********** 100% \n",
      "L=20_T=2.000000E-01_S=-8.000000E-01_mu=1.000000E-02_Tmax=500 ********** 100% \n",
      "L=20_T=4.000000E-01_S=-8.000000E-01_mu=1.000000E-02_Tmax=500 ********** 100% \n",
      "L=20_T=6.000000E-01_S=-8.000000E-01_mu=1.000000E-02_Tmax=500 ********** 100% \n",
      "L=20_T=8.000000E-01_S=-8.000000E-01_mu=1.000000E-02_Tmax=500 ********** 100% \n",
      "L=20_T=1.000000E+00_S=-8.000000E-01_mu=1.000000E-02_Tmax=500 ********** 100% \n",
      "L=20_T=1.200000E+00_S=-8.000000E-01_mu=1.000000E-02_Tmax=500 ********** 100% \n",
      "L=20_T=1.400000E+00_S=-8.000000E-01_mu=1.000000E-02_Tmax=500 ********** 100% \n",
      "L=20_T=1.600000E+00_S=-8.000000E-01_mu=1.000000E-02_Tmax=500 ********** 100% \n",
      "L=20_T=1.800000E+00_S=-8.000000E-01_mu=1.000000E-02_Tmax=500 ********** 100% \n",
      "L=20_T=2.000000E+00_S=-8.000000E-01_mu=1.000000E-02_Tmax=500 ********** 100% \n",
      "L=20_T=0.000000E+00_S=-6.000000E-01_mu=1.000000E-02_Tmax=500 ********** 100% \n",
      "L=20_T=2.000000E-01_S=-6.000000E-01_mu=1.000000E-02_Tmax=500 ********** 100% \n",
      "L=20_T=4.000000E-01_S=-6.000000E-01_mu=1.000000E-02_Tmax=500 ********** 100% \n",
      "L=20_T=6.000000E-01_S=-6.000000E-01_mu=1.000000E-02_Tmax=500 ********** 100% \n",
      "L=20_T=8.000000E-01_S=-6.000000E-01_mu=1.000000E-02_Tmax=500 ********** 100% \n",
      "L=20_T=1.000000E+00_S=-6.000000E-01_mu=1.000000E-02_Tmax=500 ********** 100% \n",
      "L=20_T=1.200000E+00_S=-6.000000E-01_mu=1.000000E-02_Tmax=500 ********** 100%   90% \n",
      "L=20_T=1.400000E+00_S=-6.000000E-01_mu=1.000000E-02_Tmax=500 ********** 100% \n",
      "L=20_T=1.600000E+00_S=-6.000000E-01_mu=1.000000E-02_Tmax=500 ********** 100% \n",
      "L=20_T=1.800000E+00_S=-6.000000E-01_mu=1.000000E-02_Tmax=500 ********** 100% \n",
      "L=20_T=2.000000E+00_S=-6.000000E-01_mu=1.000000E-02_Tmax=500 ********** 100% \n",
      "L=20_T=0.000000E+00_S=-4.000000E-01_mu=1.000000E-02_Tmax=500 ********** 100% \n",
      "L=20_T=2.000000E-01_S=-4.000000E-01_mu=1.000000E-02_Tmax=500 ********** 100% \n",
      "L=20_T=4.000000E-01_S=-4.000000E-01_mu=1.000000E-02_Tmax=500 ********** 100% \n",
      "L=20_T=6.000000E-01_S=-4.000000E-01_mu=1.000000E-02_Tmax=500 ********** 100%   90% \n",
      "L=20_T=8.000000E-01_S=-4.000000E-01_mu=1.000000E-02_Tmax=500 ********** 100% \n",
      "L=20_T=1.000000E+00_S=-4.000000E-01_mu=1.000000E-02_Tmax=500 ********** 100% \n",
      "L=20_T=1.200000E+00_S=-4.000000E-01_mu=1.000000E-02_Tmax=500 ********** 100%  10% \n",
      "L=20_T=1.400000E+00_S=-4.000000E-01_mu=1.000000E-02_Tmax=500 ********** 100% \n",
      "L=20_T=1.600000E+00_S=-4.000000E-01_mu=1.000000E-02_Tmax=500 ********** 100% \n",
      "L=20_T=1.800000E+00_S=-4.000000E-01_mu=1.000000E-02_Tmax=500 ********** 100% \n",
      "L=20_T=2.000000E+00_S=-4.000000E-01_mu=1.000000E-02_Tmax=500 ********** 100%  10% \n",
      "L=20_T=0.000000E+00_S=-2.000000E-01_mu=1.000000E-02_Tmax=500 ********** 100%   80% \n",
      "L=20_T=2.000000E-01_S=-2.000000E-01_mu=1.000000E-02_Tmax=500 ********** 100% \n",
      "L=20_T=4.000000E-01_S=-2.000000E-01_mu=1.000000E-02_Tmax=500 ********** 100%  10% \n",
      "L=20_T=6.000000E-01_S=-2.000000E-01_mu=1.000000E-02_Tmax=500 ********** 100% \n",
      "L=20_T=8.000000E-01_S=-2.000000E-01_mu=1.000000E-02_Tmax=500 ********** 100% \n",
      "L=20_T=1.000000E+00_S=-2.000000E-01_mu=1.000000E-02_Tmax=500 ********** 100% \n",
      "L=20_T=1.200000E+00_S=-2.000000E-01_mu=1.000000E-02_Tmax=500 ********** 100%   80% \n",
      "L=20_T=1.400000E+00_S=-2.000000E-01_mu=1.000000E-02_Tmax=500 ********** 100% \n",
      "L=20_T=1.600000E+00_S=-2.000000E-01_mu=1.000000E-02_Tmax=500 ********** 100% \n",
      "L=20_T=1.800000E+00_S=-2.000000E-01_mu=1.000000E-02_Tmax=500 ********** 100% \n",
      "L=20_T=2.000000E+00_S=-2.000000E-01_mu=1.000000E-02_Tmax=500 ********** 100% \n",
      "L=20_T=0.000000E+00_S=-2.220446E-16_mu=1.000000E-02_Tmax=500 ********** 100%  10%   60% \n",
      "L=20_T=2.000000E-01_S=-2.220446E-16_mu=1.000000E-02_Tmax=500 ********** 100% \n",
      "L=20_T=4.000000E-01_S=-2.220446E-16_mu=1.000000E-02_Tmax=500 ********** 100% \n",
      "L=20_T=6.000000E-01_S=-2.220446E-16_mu=1.000000E-02_Tmax=500 ********** 100%   60% \n",
      "L=20_T=8.000000E-01_S=-2.220446E-16_mu=1.000000E-02_Tmax=500 ********** 100%   90% \n",
      "L=20_T=1.000000E+00_S=-2.220446E-16_mu=1.000000E-02_Tmax=500 ********** 100% \n",
      "L=20_T=1.200000E+00_S=-2.220446E-16_mu=1.000000E-02_Tmax=500 ********** 100% \n",
      "L=20_T=1.400000E+00_S=-2.220446E-16_mu=1.000000E-02_Tmax=500 ********** 100% \n",
      "L=20_T=1.600000E+00_S=-2.220446E-16_mu=1.000000E-02_Tmax=500 ********** 100% \n",
      "L=20_T=1.800000E+00_S=-2.220446E-16_mu=1.000000E-02_Tmax=500 ********** 100% \n",
      "L=20_T=2.000000E+00_S=-2.220446E-16_mu=1.000000E-02_Tmax=500 ********** 100% \n",
      "L=20_T=0.000000E+00_S=2.000000E-01_mu=1.000000E-02_Tmax=500 ********** 100% \n",
      "L=20_T=2.000000E-01_S=2.000000E-01_mu=1.000000E-02_Tmax=500 **********  90%   20%  100% \n",
      "L=20_T=4.000000E-01_S=2.000000E-01_mu=1.000000E-02_Tmax=500 ********** 100% \n",
      "L=20_T=6.000000E-01_S=2.000000E-01_mu=1.000000E-02_Tmax=500 ********** 100% \n",
      "L=20_T=8.000000E-01_S=2.000000E-01_mu=1.000000E-02_Tmax=500 ********** 100% \n",
      "L=20_T=1.000000E+00_S=2.000000E-01_mu=1.000000E-02_Tmax=500 ********** 100% \n",
      "L=20_T=1.200000E+00_S=2.000000E-01_mu=1.000000E-02_Tmax=500 ********** 100% \n",
      "L=20_T=1.400000E+00_S=2.000000E-01_mu=1.000000E-02_Tmax=500 ********** 100% \n",
      "L=20_T=1.600000E+00_S=2.000000E-01_mu=1.000000E-02_Tmax=500 ********** 100% \n",
      "L=20_T=1.800000E+00_S=2.000000E-01_mu=1.000000E-02_Tmax=500 ********** 100% \n",
      "L=20_T=2.000000E+00_S=2.000000E-01_mu=1.000000E-02_Tmax=500 ********** 100% \n",
      "L=20_T=0.000000E+00_S=4.000000E-01_mu=1.000000E-02_Tmax=500 ********** 100% \n",
      "L=20_T=2.000000E-01_S=4.000000E-01_mu=1.000000E-02_Tmax=500 ********** 100% \n",
      "L=20_T=4.000000E-01_S=4.000000E-01_mu=1.000000E-02_Tmax=500 ********** 100% \n",
      "L=20_T=6.000000E-01_S=4.000000E-01_mu=1.000000E-02_Tmax=500 ********** 100% \n",
      "L=20_T=8.000000E-01_S=4.000000E-01_mu=1.000000E-02_Tmax=500 ********** 100% \n",
      "L=20_T=1.000000E+00_S=4.000000E-01_mu=1.000000E-02_Tmax=500 ********** 100% \n",
      "L=20_T=1.200000E+00_S=4.000000E-01_mu=1.000000E-02_Tmax=500 ********** 100% \n",
      "L=20_T=1.400000E+00_S=4.000000E-01_mu=1.000000E-02_Tmax=500 ********** 100% \n",
      "L=20_T=1.600000E+00_S=4.000000E-01_mu=1.000000E-02_Tmax=500 ********** 100% \n",
      "L=20_T=1.800000E+00_S=4.000000E-01_mu=1.000000E-02_Tmax=500 ********** 100% \n",
      "L=20_T=2.000000E+00_S=4.000000E-01_mu=1.000000E-02_Tmax=500 ********** 100% \n",
      "L=20_T=0.000000E+00_S=6.000000E-01_mu=1.000000E-02_Tmax=500 ********** 100% \n",
      "L=20_T=2.000000E-01_S=6.000000E-01_mu=1.000000E-02_Tmax=500 ********** 100% \n",
      "L=20_T=4.000000E-01_S=6.000000E-01_mu=1.000000E-02_Tmax=500 ********** 100% \n",
      "L=20_T=6.000000E-01_S=6.000000E-01_mu=1.000000E-02_Tmax=500 ********** 100% \n",
      "L=20_T=8.000000E-01_S=6.000000E-01_mu=1.000000E-02_Tmax=500 ********** 100% \n",
      "L=20_T=1.000000E+00_S=6.000000E-01_mu=1.000000E-02_Tmax=500 ********** 100%  10% \n",
      "L=20_T=1.200000E+00_S=6.000000E-01_mu=1.000000E-02_Tmax=500 ********** 100% \n",
      "L=20_T=1.400000E+00_S=6.000000E-01_mu=1.000000E-02_Tmax=500 ********** 100% \n",
      "L=20_T=1.600000E+00_S=6.000000E-01_mu=1.000000E-02_Tmax=500 ********** 100% \n",
      "L=20_T=1.800000E+00_S=6.000000E-01_mu=1.000000E-02_Tmax=500 ********** 100% \n",
      "L=20_T=2.000000E+00_S=6.000000E-01_mu=1.000000E-02_Tmax=500 ********** 100% \n",
      "L=20_T=0.000000E+00_S=8.000000E-01_mu=1.000000E-02_Tmax=500 ********** 100% \n",
      "L=20_T=2.000000E-01_S=8.000000E-01_mu=1.000000E-02_Tmax=500 ********** 100% \n",
      "L=20_T=4.000000E-01_S=8.000000E-01_mu=1.000000E-02_Tmax=500 ********** 100% \n",
      "L=20_T=6.000000E-01_S=8.000000E-01_mu=1.000000E-02_Tmax=500 ********** 100% \n",
      "L=20_T=8.000000E-01_S=8.000000E-01_mu=1.000000E-02_Tmax=500 ********** 100% \n"
     ]
    },
    {
     "name": "stdout",
     "output_type": "stream",
     "text": [
      "L=20_T=1.000000E+00_S=8.000000E-01_mu=1.000000E-02_Tmax=500 ********** 100% \n",
      "L=20_T=1.200000E+00_S=8.000000E-01_mu=1.000000E-02_Tmax=500 ********** 100%   20% \n",
      "L=20_T=1.400000E+00_S=8.000000E-01_mu=1.000000E-02_Tmax=500 ********** 100% \n",
      "L=20_T=1.600000E+00_S=8.000000E-01_mu=1.000000E-02_Tmax=500 ********** 100% \n",
      "L=20_T=1.800000E+00_S=8.000000E-01_mu=1.000000E-02_Tmax=500 ********** 100% \n",
      "L=20_T=2.000000E+00_S=8.000000E-01_mu=1.000000E-02_Tmax=500 ********** 100% \n",
      "L=20_T=0.000000E+00_S=1.000000E+00_mu=1.000000E-02_Tmax=500 ********** 100% \n",
      "L=20_T=2.000000E-01_S=1.000000E+00_mu=1.000000E-02_Tmax=500 ********** 100% \n",
      "L=20_T=4.000000E-01_S=1.000000E+00_mu=1.000000E-02_Tmax=500 ********** 100% \n",
      "L=20_T=6.000000E-01_S=1.000000E+00_mu=1.000000E-02_Tmax=500 ********** 100% \n",
      "L=20_T=8.000000E-01_S=1.000000E+00_mu=1.000000E-02_Tmax=500 ********** 100% \n",
      "L=20_T=1.000000E+00_S=1.000000E+00_mu=1.000000E-02_Tmax=500 ********** 100% \n",
      "L=20_T=1.200000E+00_S=1.000000E+00_mu=1.000000E-02_Tmax=500 ********** 100% \n",
      "L=20_T=1.400000E+00_S=1.000000E+00_mu=1.000000E-02_Tmax=500 ********** 100% \n",
      "L=20_T=1.600000E+00_S=1.000000E+00_mu=1.000000E-02_Tmax=500 ********** 100% \n",
      "L=20_T=1.800000E+00_S=1.000000E+00_mu=1.000000E-02_Tmax=500 ********** 100% \n",
      "L=20_T=2.000000E+00_S=1.000000E+00_mu=1.000000E-02_Tmax=500 ********** 100% \n",
      "\n",
      "finished!\n"
     ]
    }
   ],
   "source": [
    "n = 1\n",
    "\n",
    "# パラメータを用意\n",
    "tmp_param = Parameter(Tmax=500)\n",
    "\n",
    "# 変数を動かす範囲を定義\n",
    "S_array = np.arange(-1.0, 1.05, 0.2)\n",
    "T_array = np.arange(0.0,  2.05, 0.2)\n",
    "\n",
    "# ParamIteratorを使ってSを変動させたパラメータクラスのインスタンスを次々生成させる\n",
    "for S_param in sh.ParamIterator(tmp_param, 'S', S_array):\n",
    "    # 上記と同様にTを変動させたものを次々生成\n",
    "    for T_param in sh.ParamIterator(S_param, 'T', T_array):\n",
    "        #print(T_param)\n",
    "        eg = EvolGame(T_param)  # 初期化\n",
    "        for i in range(n):\n",
    "            eg.reset()          # エージェントをリセット\n",
    "            fc = eg.execute(show=True, fs=T_param.__str__(), end='\\r\\n')  # 実行\n",
    "            sfh.add_one_result(T_param, [fc])                  # add_one_resultを用いて結果を蓄積\n",
    "\n",
    "print()\n",
    "print('finished!')"
   ]
  },
  {
   "cell_type": "markdown",
   "metadata": {},
   "source": [
    "## Tのみを動かしたときのPDゲームにおける協力者割合変化を読み込んでプロット"
   ]
  },
  {
   "cell_type": "code",
   "execution_count": 61,
   "metadata": {},
   "outputs": [
    {
     "name": "stdout",
     "output_type": "stream",
     "text": [
      "L=20_T=1.400000E+00_S=-4.000000E-01_mu=1.000000E-02_Tmax=500\n",
      "attempts: 3\n"
     ]
    },
    {
     "data": {
      "text/plain": [
       "[<matplotlib.lines.Line2D at 0x116101f28>]"
      ]
     },
     "execution_count": 61,
     "metadata": {},
     "output_type": "execute_result"
    },
    {
     "data": {
      "image/png": "[encoded data removed]",
      "text/plain": [
       "<Figure size 432x288 with 1 Axes>"
      ]
     },
     "metadata": {},
     "output_type": "display_data"
    }
   ],
   "source": [
    "# 基本となるパラメータを用意\n",
    "tmp_param = Parameter(S=-0.4, Tmax=500); print(tmp_param)\n",
    "\n",
    "# Tを動かす範囲を定義\n",
    "T_array = np.arange(1.2,  2.05, 0.2)\n",
    "\n",
    "# get_ave_1Dを用いてTを動かしたときの結果の値を取得する\n",
    "# 末尾の[0]は結果の値の中でも最初のものを取得するため（協力者割合や平均利得など結果の量として色々見たい場合もある）\n",
    "result = sfh.get_ave_1D(tmp_param, 'T', T_array)[0]  \n",
    "\n",
    "plt.plot(T_array, result)"
   ]
  },
  {
   "cell_type": "markdown",
   "metadata": {},
   "source": [
    "## TとSを動かしたときの協力者割合をカラーマップでプロット"
   ]
  },
  {
   "cell_type": "code",
   "execution_count": 62,
   "metadata": {},
   "outputs": [
    {
     "name": "stdout",
     "output_type": "stream",
     "text": [
      "L=20_T=1.400000E+00_S=-4.000000E-01_mu=1.000000E-02_Tmax=500\n"
     ]
    },
    {
     "data": {
      "text/plain": [
       "<matplotlib.image.AxesImage at 0x1113f3c88>"
      ]
     },
     "execution_count": 62,
     "metadata": {},
     "output_type": "execute_result"
    },
    {
     "data": {
      "image/png": "[encoded data removed]",
      "text/plain": [
       "<Figure size 288x288 with 1 Axes>"
      ]
     },
     "metadata": {},
     "output_type": "display_data"
    }
   ],
   "source": [
    "tmp_param = Parameter(S=-0.4, Tmax=500); print(tmp_param)\n",
    "\n",
    "S_array = np.arange(-1.0, 1.05, 0.2)\n",
    "T_array = np.arange(0.0,  2.05, 0.2)\n",
    "\n",
    "# get_ave_2Dで2つのパラメータを変化させたときの結果を配列の形で取得\n",
    "result = sfh.get_ave_2D(tmp_param, 'T', 'S', T_array, S_array, show=False)[0,:,:]\n",
    "\n",
    "fig = plt.figure(figsize=(4,4))\n",
    "ax = fig.add_subplot(111)\n",
    "\n",
    "ax.set_xticks(range(0,11,2))\n",
    "ax.set_yticks(range(0,11,2))\n",
    "\n",
    "ax.set_xticklabels(np.round(T_array[::2], 1))\n",
    "ax.set_yticklabels(np.round(S_array[::2], 1))\n",
    "ax.imshow(result, origin='lower', cmap='inferno')"
   ]
  },
  {
   "cell_type": "markdown",
   "metadata": {},
   "source": [
    "## フォルダ内の状況を確認"
   ]
  },
  {
   "cell_type": "code",
   "execution_count": 63,
   "metadata": {},
   "outputs": [
    {
     "name": "stdout",
     "output_type": "stream",
     "text": [
      "Folder: data_eg\n",
      "Parameter: ['L', 'T', 'S', 'mu', 'Tmax']\n",
      "\n",
      "# of files: 121\n",
      "Total attemps: 362\n",
      "\n",
      "# of values that was set to each variable. \n"
     ]
    },
    {
     "data": {
      "image/png": "[encoded data removed]",
      "text/plain": [
       "<Figure size 720x360 with 2 Axes>"
      ]
     },
     "metadata": {},
     "output_type": "display_data"
    }
   ],
   "source": [
    "sfh.summary()"
   ]
  },
  {
   "cell_type": "code",
   "execution_count": null,
   "metadata": {},
   "outputs": [],
   "source": []
  }
 ],
 "metadata": {
  "kernelspec": {
   "display_name": "Python 3",
   "language": "python",
   "name": "python3"
  },
  "language_info": {
   "codemirror_mode": {
    "name": "ipython",
    "version": 3
   },
   "file_extension": ".py",
   "mimetype": "text/x-python",
   "name": "python",
   "nbconvert_exporter": "python",
   "pygments_lexer": "ipython3",
   "version": "3.6.0"
  }
 },
 "nbformat": 4,
 "nbformat_minor": 2
}
